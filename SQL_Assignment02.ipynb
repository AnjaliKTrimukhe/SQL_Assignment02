{
 "cells": [
  {
   "cell_type": "raw",
   "id": "8c3e603a",
   "metadata": {},
   "source": [
    "Q-1. Write an SQL query to print the first three characters of  FIRST_NAME from Worker\n",
    "table.\n",
    "Ans:"
   ]
  },
  {
   "cell_type": "code",
   "execution_count": null,
   "id": "21a4b8c3",
   "metadata": {},
   "outputs": [],
   "source": [
    "SELECT SUBSTRING(FIRST_NAME,1,3) \n",
    "     FROM Worker;"
   ]
  },
  {
   "cell_type": "raw",
   "id": "7623165a",
   "metadata": {},
   "source": [
    " Q-2. Write an SQL query to find the position of the alphabet (‘a’) in the first name\n",
    "column ‘Amitabh’ from Worker table.\n",
    "Ans:"
   ]
  },
  {
   "cell_type": "code",
   "execution_count": null,
   "id": "c94ac98d",
   "metadata": {},
   "outputs": [],
   "source": [
    "Select INSTR(FIRST_NAME, BINARY'a') from Worker where FIRST_NAME = 'Amitabh';"
   ]
  },
  {
   "cell_type": "raw",
   "id": "eb5b6f40",
   "metadata": {},
   "source": [
    "Q-3. Write an SQL query to print the name of employees having the highest salary in each\n",
    "department.\n",
    "Ans:"
   ]
  },
  {
   "cell_type": "code",
   "execution_count": null,
   "id": "8d00fbc3",
   "metadata": {},
   "outputs": [],
   "source": [
    "SELECT DEPT_ID, MAX(SALARY) FROM department GROUP BY DEPT_ID;"
   ]
  }
 ],
 "metadata": {
  "kernelspec": {
   "display_name": "Python 3 (ipykernel)",
   "language": "python",
   "name": "python3"
  },
  "language_info": {
   "codemirror_mode": {
    "name": "ipython",
    "version": 3
   },
   "file_extension": ".py",
   "mimetype": "text/x-python",
   "name": "python",
   "nbconvert_exporter": "python",
   "pygments_lexer": "ipython3",
   "version": "3.9.7"
  }
 },
 "nbformat": 4,
 "nbformat_minor": 5
}
